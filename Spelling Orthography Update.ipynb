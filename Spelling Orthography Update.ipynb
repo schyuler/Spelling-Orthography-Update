{
 "cells": [
  {
   "cell_type": "markdown",
   "id": "2e089c10",
   "metadata": {},
   "source": [
    "# Spelling Orthography Update"
   ]
  },
  {
   "cell_type": "markdown",
   "id": "f4b8bb52",
   "metadata": {},
   "source": [
    "This project uses machine learning to update text from an older spelling orthography to a modern spelling orthography. The focus on this project will be on updating the spelling orthography from the 1908 Chamorro Bible."
   ]
  },
  {
   "cell_type": "markdown",
   "id": "85c2bed1",
   "metadata": {},
   "source": [
    "**Name:** Schyuler Lujan<br>\n",
    "**Date Started:** 6-Nov-2024<br>\n",
    "**Date Completed:** In Progress"
   ]
  },
  {
   "cell_type": "code",
   "execution_count": null,
   "id": "e5fba6ba",
   "metadata": {},
   "outputs": [],
   "source": [
    "# Import libraries\n",
    "from bs4 import BeautifulSoup\n",
    "import requests\n",
    "import pandas as pd"
   ]
  },
  {
   "cell_type": "markdown",
   "id": "32a847e9",
   "metadata": {},
   "source": [
    "# Scrape Text Data"
   ]
  },
  {
   "cell_type": "markdown",
   "id": "87adbe75",
   "metadata": {},
   "source": [
    "Scrape the text data from the chamorrobible.org website and format the text into a dataset of sentences, a dataset of verses, and a dataset of individual words (both duplicated and unduplicated) for different types of analysis. We will also be tagging each sentence, verse and word with its associated book name and book chapter for further text analysis."
   ]
  },
  {
   "cell_type": "code",
   "execution_count": null,
   "id": "0acb23a8",
   "metadata": {},
   "outputs": [],
   "source": [
    "# Assess the structure of the website"
   ]
  },
  {
   "cell_type": "markdown",
   "id": "bf3091dd",
   "metadata": {},
   "source": [
    "# Clean Text Data"
   ]
  },
  {
   "cell_type": "code",
   "execution_count": null,
   "id": "1391c81a",
   "metadata": {},
   "outputs": [],
   "source": [
    "# Remove numbers"
   ]
  },
  {
   "cell_type": "code",
   "execution_count": null,
   "id": "209efbba",
   "metadata": {},
   "outputs": [],
   "source": [
    "# Remove punctuation"
   ]
  },
  {
   "cell_type": "code",
   "execution_count": null,
   "id": "80eaca20",
   "metadata": {},
   "outputs": [],
   "source": [
    "# Convert to lowercase"
   ]
  },
  {
   "cell_type": "markdown",
   "id": "f15c9ad3",
   "metadata": {},
   "source": [
    "# Exploratory Analysis"
   ]
  },
  {
   "cell_type": "markdown",
   "id": "73742877",
   "metadata": {},
   "source": [
    "## Basic Descriptive Statistics"
   ]
  },
  {
   "cell_type": "code",
   "execution_count": null,
   "id": "1995cc79",
   "metadata": {},
   "outputs": [],
   "source": [
    "# Word counts - total and unique"
   ]
  },
  {
   "cell_type": "code",
   "execution_count": null,
   "id": "6f5be468",
   "metadata": {},
   "outputs": [],
   "source": [
    "# Sentence counts"
   ]
  },
  {
   "cell_type": "code",
   "execution_count": null,
   "id": "02102232",
   "metadata": {},
   "outputs": [],
   "source": [
    "# Character counts"
   ]
  },
  {
   "cell_type": "markdown",
   "id": "236eed00",
   "metadata": {},
   "source": [
    "## Frequency analysis"
   ]
  },
  {
   "cell_type": "code",
   "execution_count": null,
   "id": "ee125532",
   "metadata": {},
   "outputs": [],
   "source": [
    "# Frequency of words - across entire text and by book"
   ]
  },
  {
   "cell_type": "markdown",
   "id": "9ff94275",
   "metadata": {},
   "source": [
    "## N-Grams Analysis"
   ]
  },
  {
   "cell_type": "code",
   "execution_count": null,
   "id": "9baa36bc",
   "metadata": {},
   "outputs": [],
   "source": [
    "# Commonly occuring word pairs or phrases"
   ]
  },
  {
   "cell_type": "markdown",
   "id": "1e9f7309",
   "metadata": {},
   "source": [
    "# Export Data to Create Training Set"
   ]
  },
  {
   "cell_type": "markdown",
   "id": "f23b59f2",
   "metadata": {},
   "source": [
    "A small, manually created dataset of sample pairs will be created from the text. It will contain the old orthography spelling mapped to the equivalent new orthography spelling, and this dataset will be used to train our machine learning models."
   ]
  },
  {
   "cell_type": "markdown",
   "id": "4ea14b3f",
   "metadata": {},
   "source": [
    "# Train Models"
   ]
  },
  {
   "cell_type": "markdown",
   "id": "f6633ba9",
   "metadata": {},
   "source": [
    "# Evaluale Model Performance"
   ]
  },
  {
   "cell_type": "markdown",
   "id": "bc52ddc7",
   "metadata": {},
   "source": [
    "# Final Model Selection"
   ]
  },
  {
   "cell_type": "markdown",
   "id": "d77d6b91",
   "metadata": {},
   "source": [
    "# Export Final Dataset"
   ]
  },
  {
   "cell_type": "markdown",
   "id": "ec8fe3ce",
   "metadata": {},
   "source": [
    "# Conclusions"
   ]
  },
  {
   "cell_type": "code",
   "execution_count": null,
   "id": "da907805",
   "metadata": {},
   "outputs": [],
   "source": []
  }
 ],
 "metadata": {
  "kernelspec": {
   "display_name": "Python 3 (ipykernel)",
   "language": "python",
   "name": "python3"
  },
  "language_info": {
   "codemirror_mode": {
    "name": "ipython",
    "version": 3
   },
   "file_extension": ".py",
   "mimetype": "text/x-python",
   "name": "python",
   "nbconvert_exporter": "python",
   "pygments_lexer": "ipython3",
   "version": "3.11.7"
  }
 },
 "nbformat": 4,
 "nbformat_minor": 5
}
