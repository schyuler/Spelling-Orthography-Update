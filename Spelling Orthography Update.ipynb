{
 "cells": [
  {
   "cell_type": "markdown",
   "id": "2e089c10",
   "metadata": {},
   "source": [
    "# Spelling Orthography Update"
   ]
  },
  {
   "cell_type": "markdown",
   "id": "f4b8bb52",
   "metadata": {},
   "source": [
    "This project uses machine learning to update text from an older spelling orthography to a modern spelling orthography. The focus on this project will be on updating the spelling orthography from the 1908 Chamorro Bible."
   ]
  },
  {
   "cell_type": "markdown",
   "id": "85c2bed1",
   "metadata": {},
   "source": [
    "**Name:** Schyuler Lujan<br>\n",
    "**Date Started:** 6-Nov-2024<br>\n",
    "**Date Completed:** In Progress<br>\n",
    "**Last Updated:** 7-Nov-2024"
   ]
  },
  {
   "cell_type": "code",
   "execution_count": 2,
   "id": "e5fba6ba",
   "metadata": {},
   "outputs": [],
   "source": [
    "# Import libraries\n",
    "from bs4 import BeautifulSoup # For web scraping\n",
    "import requests # For web scraping\n",
    "import re # For text cleaning\n",
    "import pandas as pd # For analysis\n",
    "import matplotlib.pyplot as plt # For analysis"
   ]
  },
  {
   "cell_type": "markdown",
   "id": "32a847e9",
   "metadata": {},
   "source": [
    "# Scrape Text Data"
   ]
  },
  {
   "cell_type": "markdown",
   "id": "87adbe75",
   "metadata": {},
   "source": [
    "Scrape the text data from the chamorrobible.org website and format the text into a dataset of unduplicated words."
   ]
  },
  {
   "cell_type": "code",
   "execution_count": 3,
   "id": "29992ecc",
   "metadata": {},
   "outputs": [],
   "source": [
    "# All text can be found at this URL\n",
    "website = 'http://chamorrobible.org/download/YSantaBiblia-Chamorro-HTML.htm'"
   ]
  },
  {
   "cell_type": "code",
   "execution_count": 4,
   "id": "76529ebf",
   "metadata": {},
   "outputs": [],
   "source": [
    "# Get webpage and parse the HTML\n",
    "page = requests.get(website)\n",
    "soup = BeautifulSoup(page.content, \"html.parser\")"
   ]
  },
  {
   "cell_type": "code",
   "execution_count": 5,
   "id": "d89eff43",
   "metadata": {},
   "outputs": [],
   "source": [
    "# Get all the text from parsed HTML\n",
    "ch_bible_text = soup.get_text()"
   ]
  },
  {
   "cell_type": "code",
   "execution_count": 6,
   "id": "e1b81262",
   "metadata": {},
   "outputs": [],
   "source": [
    "# Check the text\n",
    "#print(ch_bible_text)"
   ]
  },
  {
   "cell_type": "markdown",
   "id": "bf3091dd",
   "metadata": {},
   "source": [
    "# Clean Text Data"
   ]
  },
  {
   "cell_type": "code",
   "execution_count": 7,
   "id": "f162993d",
   "metadata": {},
   "outputs": [],
   "source": [
    "# Remove numbers\n",
    "text_clean = re.sub(r\"\\d+\", \" \", ch_bible_text)"
   ]
  },
  {
   "cell_type": "code",
   "execution_count": 8,
   "id": "5928078d",
   "metadata": {},
   "outputs": [],
   "source": [
    "# Remove punctuation\n",
    "text_clean = re.sub(r\"[^\\w\\s]\", \"\", text_clean)"
   ]
  },
  {
   "cell_type": "code",
   "execution_count": 9,
   "id": "7d6dd170",
   "metadata": {},
   "outputs": [],
   "source": [
    "# Standardize text by converting to lowercase\n",
    "text_clean = text_clean.lower()"
   ]
  },
  {
   "cell_type": "code",
   "execution_count": 10,
   "id": "7e367c8b",
   "metadata": {},
   "outputs": [],
   "source": [
    "# Split text by word and store in a list of duplicated words\n",
    "total_word_list = text_clean.split()"
   ]
  },
  {
   "cell_type": "markdown",
   "id": "f15c9ad3",
   "metadata": {},
   "source": [
    "# Exploratory Analysis"
   ]
  },
  {
   "cell_type": "markdown",
   "id": "e755210e",
   "metadata": {},
   "source": [
    "## Word Counts"
   ]
  },
  {
   "cell_type": "markdown",
   "id": "12a20b4f",
   "metadata": {},
   "source": [
    "Basic counts of the total, duplicated word count and the unduplicated word count."
   ]
  },
  {
   "cell_type": "code",
   "execution_count": 11,
   "id": "1995cc79",
   "metadata": {
    "scrolled": true
   },
   "outputs": [
    {
     "name": "stdout",
     "output_type": "stream",
     "text": [
      "The total word count: 132,875\n"
     ]
    }
   ],
   "source": [
    "# Get total word count\n",
    "total_word_count = len(total_word_list)\n",
    "print(f\"The total word count: {total_word_count:,}\")"
   ]
  },
  {
   "cell_type": "code",
   "execution_count": 12,
   "id": "2e21c27a",
   "metadata": {},
   "outputs": [
    {
     "name": "stdout",
     "output_type": "stream",
     "text": [
      "The unique word count: 11,193\n"
     ]
    }
   ],
   "source": [
    "# Get unique word count\n",
    "unique_word_set = set(total_word_list)\n",
    "unique_word_count = len(unique_word_set)\n",
    "print(f\"The unique word count: {unique_word_count:,}\")"
   ]
  },
  {
   "cell_type": "markdown",
   "id": "c1ebee25",
   "metadata": {},
   "source": [
    "## Word Lengths"
   ]
  },
  {
   "cell_type": "markdown",
   "id": "83970f50",
   "metadata": {},
   "source": [
    "Basic analysis to understand the length of individual words in the text."
   ]
  },
  {
   "cell_type": "code",
   "execution_count": 47,
   "id": "3e5e3a8a",
   "metadata": {},
   "outputs": [],
   "source": [
    "# Append word lengths to a list\n",
    "word_length = [len(word) for word in total_word_list]\n",
    "# Convert to a dataframe\n",
    "word_length_df = pd.DataFrame(word_length, columns=[\"WordLength\"])"
   ]
  },
  {
   "cell_type": "code",
   "execution_count": 48,
   "id": "fcb4e435",
   "metadata": {},
   "outputs": [
    {
     "data": {
      "text/plain": [
       "count    132875.000000\n",
       "mean          4.725389\n",
       "std           2.928984\n",
       "min           1.000000\n",
       "25%           2.000000\n",
       "50%           4.000000\n",
       "75%           7.000000\n",
       "max          22.000000\n",
       "Name: WordLength, dtype: float64"
      ]
     },
     "execution_count": 48,
     "metadata": {},
     "output_type": "execute_result"
    }
   ],
   "source": [
    "# Get descriptive statistics for word length\n",
    "word_length_df[\"WordLength\"].describe()"
   ]
  },
  {
   "cell_type": "markdown",
   "id": "742f4029",
   "metadata": {},
   "source": [
    "## Character Counts"
   ]
  },
  {
   "cell_type": "markdown",
   "id": "2a827b65",
   "metadata": {},
   "source": [
    "Get a character count, and also create a dictionary of characters and their frequencies to prepare for frequency analysis."
   ]
  },
  {
   "cell_type": "code",
   "execution_count": 16,
   "id": "02102232",
   "metadata": {},
   "outputs": [],
   "source": [
    "characters = {} # Initialize dictionary for storing characters\n",
    "total_character_count = 0 # For holding the total character count\n",
    "\n",
    "# Character counts\n",
    "for word in total_word_list:\n",
    "    for char in word:\n",
    "        total_character_count += 1\n",
    "        if char in characters:\n",
    "            characters[char] += 1\n",
    "        else:\n",
    "            characters[char] = 1"
   ]
  },
  {
   "cell_type": "code",
   "execution_count": 17,
   "id": "2085afed",
   "metadata": {},
   "outputs": [
    {
     "name": "stdout",
     "output_type": "stream",
     "text": [
      "The total number of characters in the text: 627,886\n"
     ]
    }
   ],
   "source": [
    "print(f\"The total number of characters in the text: {total_character_count:,}\")"
   ]
  },
  {
   "cell_type": "markdown",
   "id": "52ffb9c5",
   "metadata": {},
   "source": [
    "## Character Frequencies"
   ]
  },
  {
   "cell_type": "markdown",
   "id": "2a4b5177",
   "metadata": {},
   "source": [
    "Understand the frequency of each character used in the text, which can give us high-level information about how spelling may differ from modern orthographies."
   ]
  },
  {
   "cell_type": "code",
   "execution_count": 50,
   "id": "f28f0078",
   "metadata": {},
   "outputs": [],
   "source": [
    "# Convert dictionary to a list of tuples before converting to dataframe\n",
    "character_list = [(char, characters[char]) for char in characters]"
   ]
  },
  {
   "cell_type": "code",
   "execution_count": 19,
   "id": "7162185e",
   "metadata": {},
   "outputs": [
    {
     "name": "stdout",
     "output_type": "stream",
     "text": [
      "   Character  Frequency\n",
      "2          a     130786\n",
      "3          n      60208\n",
      "9          o      47056\n",
      "6          i      46099\n",
      "14         e      39671\n",
      "0          y      38423\n",
      "12         u      34416\n",
      "15         g      34305\n",
      "1          s      30192\n",
      "4          t      29560\n",
      "10         j      28684\n",
      "8          m      27442\n",
      "7          l      18041\n",
      "17         p       9827\n",
      "11         c       9349\n",
      "13         r       7984\n",
      "19         d       7472\n",
      "18         ñ       7411\n",
      "20         f       6352\n",
      "5          b       4211\n",
      "23         ü       4050\n",
      "16         h       3452\n",
      "25         q       1023\n",
      "22         v        870\n",
      "27         â        646\n",
      "24         á        160\n",
      "26         é         85\n",
      "28         ó         51\n",
      "21         ú         23\n",
      "29         í         18\n",
      "33         x         12\n",
      "30         ô          2\n",
      "31         z          2\n",
      "32         k          2\n",
      "34         ã          1\n"
     ]
    }
   ],
   "source": [
    "# Convert to dataframe and view results in descending order\n",
    "character_frequency_df = pd.DataFrame(character_list, columns=[\"Character\", \"Frequency\"])\n",
    "# Sort dataframe by frequency\n",
    "character_frequency_df.sort_values(by=\"Frequency\", ascending=False, inplace=True)\n",
    "print(character_frequency_df)"
   ]
  },
  {
   "cell_type": "markdown",
   "id": "2725531a",
   "metadata": {},
   "source": [
    "## Word Frequencies and Lexical Diversity"
   ]
  },
  {
   "cell_type": "markdown",
   "id": "db55934c",
   "metadata": {},
   "source": [
    "Analyze word frequency in the text, which includes seeing which words are repeated versus which words are unique (used only once). This gives us a sense of the diversity vs. repetition of word usage in the text."
   ]
  },
  {
   "cell_type": "code",
   "execution_count": 20,
   "id": "3f387408",
   "metadata": {},
   "outputs": [],
   "source": [
    "# Count the frequency of each word in the text\n",
    "words = {} # Initialize dictionary to store word counts\n",
    "\n",
    "# Iterate through the unduplicated word list and store counts for each word\n",
    "for word in total_word_list:\n",
    "    if word in words:\n",
    "        words[word] += 1\n",
    "    else:\n",
    "        words[word] = 1"
   ]
  },
  {
   "cell_type": "code",
   "execution_count": 51,
   "id": "59a8b294",
   "metadata": {},
   "outputs": [],
   "source": [
    "# Store words and their frequencies in a list\n",
    "word_frequencies = [(word, words[word]) for word in words]"
   ]
  },
  {
   "cell_type": "code",
   "execution_count": 52,
   "id": "3a0593bc",
   "metadata": {},
   "outputs": [
    {
     "name": "stdout",
     "output_type": "stream",
     "text": [
      "          Word  Frequency\n",
      "0            y      15477\n",
      "57          ya       7730\n",
      "83          na       4631\n",
      "10         gui       4123\n",
      "4         sija       3631\n",
      "9          yan       2958\n",
      "40          ni       2813\n",
      "15          si       2354\n",
      "181       para       1629\n",
      "41          ti       1487\n",
      "81          sa       1450\n",
      "171      güiya       1242\n",
      "39      taotao       1240\n",
      "216       anae       1117\n",
      "50         ayo       1087\n",
      "129     ilegña       1077\n",
      "130         nu       1061\n",
      "52         lao       1020\n",
      "53       guiya       1013\n",
      "73        todo        965\n",
      "153      jamyo        959\n",
      "183       yuus        848\n",
      "391       este        824\n",
      "239        güe        818\n",
      "137        pot        811\n",
      "55       jeova        749\n",
      "5371     jesus        681\n",
      "119      guajo        668\n",
      "114        nae        662\n",
      "17          un        654\n",
      "185       jago        599\n",
      "182         as        522\n",
      "90        jafa        510\n",
      "97        tano        476\n",
      "150          o        424\n",
      "206         yo        411\n",
      "531      locue        402\n",
      "352       esta        389\n",
      "460     guinin        386\n",
      "103   ilegñija        382\n",
      "60       jaane        364\n",
      "132        jao        364\n",
      "179       taya        344\n",
      "112      señot        330\n",
      "389     yaguin        326\n",
      "766       mato        320\n",
      "68       guaja        313\n",
      "395    magajet        298\n",
      "226       asta        296\n",
      "30         uno        295\n"
     ]
    }
   ],
   "source": [
    "# Convert to a dataframe\n",
    "word_frequencies_df = pd.DataFrame(word_frequencies, columns=[\"Word\", \"Frequency\"])\n",
    "# Sort dataframe in descending order on Frquency\n",
    "word_frequencies_df.sort_values(by=\"Frequency\", ascending=False, inplace=True)\n",
    "# View top 100 words\n",
    "print(word_frequencies_df.head(50))"
   ]
  },
  {
   "cell_type": "code",
   "execution_count": 39,
   "id": "3f54535a",
   "metadata": {},
   "outputs": [
    {
     "data": {
      "text/plain": [
       "count    11193.000000\n",
       "mean        11.871259\n",
       "std        189.451212\n",
       "min          1.000000\n",
       "25%          1.000000\n",
       "50%          1.000000\n",
       "75%          3.000000\n",
       "max      15477.000000\n",
       "Name: Frequency, dtype: float64"
      ]
     },
     "execution_count": 39,
     "metadata": {},
     "output_type": "execute_result"
    }
   ],
   "source": [
    "# Get descriptive statistics for total word frequencies\n",
    "word_frequencies_df[\"Frequency\"].describe()"
   ]
  },
  {
   "cell_type": "code",
   "execution_count": 53,
   "id": "c25df616",
   "metadata": {
    "scrolled": true
   },
   "outputs": [
    {
     "data": {
      "image/png": "[encoded data removed]",
      "text/plain": [
       "<Figure size 640x480 with 1 Axes>"
      ]
     },
     "metadata": {},
     "output_type": "display_data"
    }
   ],
   "source": [
    "# Visualize word frequencies with a boxplot\n",
    "plt.boxplot(word_frequencies_df[\"Frequency\"], vert = False)\n",
    "plt.title(\"Boxplot of Word Frequencies\")\n",
    "plt.ylabel(\"Frequency\")\n",
    "plt.show()"
   ]
  },
  {
   "cell_type": "markdown",
   "id": "ea27f30d",
   "metadata": {},
   "source": [
    "Our text contains words that are repeated at a higher than usual frequency than most other words in the text, with one word repeated almost 16,000 times in the text. Given this boxplot distribution, we will split the text into two groups for further analysis: Unique words and repeated words. <p>\n",
    "\n",
    "Additionally, we must take these outliers into consideration when choosing our random sample for creating the training set. Their high frequency indicates they are important to the text overall, but we don't want the model to overfit based upon them."
   ]
  },
  {
   "cell_type": "markdown",
   "id": "41f9441b",
   "metadata": {},
   "source": [
    "### Non-Repeated Words"
   ]
  },
  {
   "cell_type": "markdown",
   "id": "5e4ee2ab",
   "metadata": {},
   "source": [
    "We will analyze the words used only once in the text. See how many words are only used once and their proportion of the overall text (both unique words and total words) to get a sense for lexical diversity in the text. We will also analyze the word lengths and compare with repeated words to identify any similarities or notable differences between the groups."
   ]
  },
  {
   "cell_type": "code",
   "execution_count": 23,
   "id": "b6f9be4c",
   "metadata": {
    "scrolled": true
   },
   "outputs": [
    {
     "name": "stdout",
     "output_type": "stream",
     "text": [
      "Total words occuring once: 6,207\n",
      "Unique words are 0.5545430179576522 of the unique word set\n",
      "Unique words are 0.04671307619943556 of the total word set\n"
     ]
    }
   ],
   "source": [
    "# Create a dataframe of non-repeated words\n",
    "not_repeated_df = word_frequencies_df[word_frequencies_df[\"Frequency\"] == 1]\n",
    "\n",
    "# Count the number of words ocurring only once\n",
    "total_not_repeated = len(not_repeated_df)\n",
    "print(f\"Total words occuring once: {total_not_repeated:,}\")\n",
    "print(f\"Unique words are {(total_not_repeated / unique_word_count)} of the unique word set\")\n",
    "print(f\"Unique words are {(total_not_repeated / total_word_count)} of the total word set\")"
   ]
  },
  {
   "cell_type": "markdown",
   "id": "5bd7be9d",
   "metadata": {},
   "source": [
    "Unique words are less than 5% of the total words used in the text, which indicates a high amount of repetition in the text. However, these words are over half of the unique word count, which shows us that there is still a variety of vocabulary used in the text. Both of these characteristics are consistent with the nature of the text, since it is a domain-specific religious text which is likely to have repeated themes, messages and imagery."
   ]
  },
  {
   "cell_type": "code",
   "execution_count": 55,
   "id": "44d5a807",
   "metadata": {
    "scrolled": true
   },
   "outputs": [
    {
     "data": {
      "text/html": [
       "<div>\n",
       "<style scoped>\n",
       "    .dataframe tbody tr th:only-of-type {\n",
       "        vertical-align: middle;\n",
       "    }\n",
       "\n",
       "    .dataframe tbody tr th {\n",
       "        vertical-align: top;\n",
       "    }\n",
       "\n",
       "    .dataframe thead th {\n",
       "        text-align: right;\n",
       "    }\n",
       "</style>\n",
       "<table border=\"1\" class=\"dataframe\">\n",
       "  <thead>\n",
       "    <tr style=\"text-align: right;\">\n",
       "      <th></th>\n",
       "      <th>0</th>\n",
       "    </tr>\n",
       "  </thead>\n",
       "  <tbody>\n",
       "    <tr>\n",
       "      <th>count</th>\n",
       "      <td>6207.000000</td>\n",
       "    </tr>\n",
       "    <tr>\n",
       "      <th>mean</th>\n",
       "      <td>9.334944</td>\n",
       "    </tr>\n",
       "    <tr>\n",
       "      <th>std</th>\n",
       "      <td>2.692078</td>\n",
       "    </tr>\n",
       "    <tr>\n",
       "      <th>min</th>\n",
       "      <td>1.000000</td>\n",
       "    </tr>\n",
       "    <tr>\n",
       "      <th>25%</th>\n",
       "      <td>8.000000</td>\n",
       "    </tr>\n",
       "    <tr>\n",
       "      <th>50%</th>\n",
       "      <td>9.000000</td>\n",
       "    </tr>\n",
       "    <tr>\n",
       "      <th>75%</th>\n",
       "      <td>11.000000</td>\n",
       "    </tr>\n",
       "    <tr>\n",
       "      <th>max</th>\n",
       "      <td>22.000000</td>\n",
       "    </tr>\n",
       "  </tbody>\n",
       "</table>\n",
       "</div>"
      ],
      "text/plain": [
       "                 0\n",
       "count  6207.000000\n",
       "mean      9.334944\n",
       "std       2.692078\n",
       "min       1.000000\n",
       "25%       8.000000\n",
       "50%       9.000000\n",
       "75%      11.000000\n",
       "max      22.000000"
      ]
     },
     "execution_count": 55,
     "metadata": {},
     "output_type": "execute_result"
    }
   ],
   "source": [
    "# Analyze word length of non-repeated words\n",
    "not_repeated = list(not_repeated_df[\"Word\"])\n",
    "not_repeated_char_length = [len(word) for word in not_repeated]\n",
    "# Convert to dataframe and get descriptive statistics\n",
    "not_repeated_char_length_df = pd.DataFrame(not_repeated_char_length)\n",
    "not_repeated_char_length_df.describe()"
   ]
  },
  {
   "cell_type": "markdown",
   "id": "31f9efb4",
   "metadata": {},
   "source": [
    "Word length is uniformly distributed, as the mean and median are roughly the same."
   ]
  },
  {
   "cell_type": "markdown",
   "id": "421b8b8d",
   "metadata": {},
   "source": [
    "### Repeated Words"
   ]
  },
  {
   "cell_type": "code",
   "execution_count": 24,
   "id": "98c3d529",
   "metadata": {},
   "outputs": [
    {
     "name": "stdout",
     "output_type": "stream",
     "text": [
      "Total words repeated: 4,986\n",
      "Repeated words are 0.4454569820423479 of the unique word set\n",
      "Repeated words are 0.9532869238005645 of the total word set\n"
     ]
    }
   ],
   "source": [
    "# Create a dataframe of repeated words\n",
    "repeated_words_df = word_frequencies_df[word_frequencies_df[\"Frequency\"] > 1]\n",
    "# Count the number of repeated words\n",
    "total_repeated = len(repeated_words_df)\n",
    "print(f\"Total words repeated: {total_repeated:,}\")\n",
    "print(f\"Repeated words are {total_repeated / unique_word_count} of the unique word set\")\n",
    "print(f\"Repeated words are {(total_word_count - total_not_repeated) / total_word_count} of the total word set\")"
   ]
  },
  {
   "cell_type": "code",
   "execution_count": 25,
   "id": "dce2b798",
   "metadata": {
    "scrolled": true
   },
   "outputs": [
    {
     "data": {
      "text/plain": [
       "count     4986.000000\n",
       "mean        25.404733\n",
       "std        283.286989\n",
       "min          2.000000\n",
       "25%          2.000000\n",
       "50%          4.000000\n",
       "75%          8.000000\n",
       "max      15477.000000\n",
       "Name: Frequency, dtype: float64"
      ]
     },
     "execution_count": 25,
     "metadata": {},
     "output_type": "execute_result"
    }
   ],
   "source": [
    "# Get descriptive statistics for Frequency on repeated words\n",
    "repeated_words_df[\"Frequency\"].describe()"
   ]
  },
  {
   "cell_type": "markdown",
   "id": "22f0214d",
   "metadata": {},
   "source": [
    "The median is much lower than the mean, which means that the distribution of repeated words is skewed to the right and that there are a small number of high frequency words that are pulling up the mean."
   ]
  },
  {
   "cell_type": "code",
   "execution_count": 61,
   "id": "29c1da45",
   "metadata": {},
   "outputs": [
    {
     "data": {
      "text/plain": [
       "Text(0.5, 0, 'Word Frequency')"
      ]
     },
     "execution_count": 61,
     "metadata": {},
     "output_type": "execute_result"
    },
    {
     "data": {
      "image/png": "[encoded data removed]",
      "text/plain": [
       "<Figure size 640x480 with 1 Axes>"
      ]
     },
     "metadata": {},
     "output_type": "display_data"
    }
   ],
   "source": [
    "# Visualize distribution of frequency of repeated words with a boxplot\n",
    "plt.boxplot(repeated_words_df[\"Frequency\"], vert = False)\n",
    "plt.title(\"Boxplot of Word Frequencies - Repeated Words\")\n",
    "plt.xlabel(\"Word Frequency\")"
   ]
  },
  {
   "cell_type": "code",
   "execution_count": 56,
   "id": "2af97c65",
   "metadata": {
    "scrolled": true
   },
   "outputs": [
    {
     "data": {
      "text/html": [
       "<div>\n",
       "<style scoped>\n",
       "    .dataframe tbody tr th:only-of-type {\n",
       "        vertical-align: middle;\n",
       "    }\n",
       "\n",
       "    .dataframe tbody tr th {\n",
       "        vertical-align: top;\n",
       "    }\n",
       "\n",
       "    .dataframe thead th {\n",
       "        text-align: right;\n",
       "    }\n",
       "</style>\n",
       "<table border=\"1\" class=\"dataframe\">\n",
       "  <thead>\n",
       "    <tr style=\"text-align: right;\">\n",
       "      <th></th>\n",
       "      <th>0</th>\n",
       "    </tr>\n",
       "  </thead>\n",
       "  <tbody>\n",
       "    <tr>\n",
       "      <th>count</th>\n",
       "      <td>4986.000000</td>\n",
       "    </tr>\n",
       "    <tr>\n",
       "      <th>mean</th>\n",
       "      <td>7.951063</td>\n",
       "    </tr>\n",
       "    <tr>\n",
       "      <th>std</th>\n",
       "      <td>2.427114</td>\n",
       "    </tr>\n",
       "    <tr>\n",
       "      <th>min</th>\n",
       "      <td>1.000000</td>\n",
       "    </tr>\n",
       "    <tr>\n",
       "      <th>25%</th>\n",
       "      <td>6.000000</td>\n",
       "    </tr>\n",
       "    <tr>\n",
       "      <th>50%</th>\n",
       "      <td>8.000000</td>\n",
       "    </tr>\n",
       "    <tr>\n",
       "      <th>75%</th>\n",
       "      <td>9.000000</td>\n",
       "    </tr>\n",
       "    <tr>\n",
       "      <th>max</th>\n",
       "      <td>18.000000</td>\n",
       "    </tr>\n",
       "  </tbody>\n",
       "</table>\n",
       "</div>"
      ],
      "text/plain": [
       "                 0\n",
       "count  4986.000000\n",
       "mean      7.951063\n",
       "std       2.427114\n",
       "min       1.000000\n",
       "25%       6.000000\n",
       "50%       8.000000\n",
       "75%       9.000000\n",
       "max      18.000000"
      ]
     },
     "execution_count": 56,
     "metadata": {},
     "output_type": "execute_result"
    }
   ],
   "source": [
    "# Analyze word length of repeated words\n",
    "repeated = list(repeated_words_df[\"Word\"])\n",
    "repeated_words_char_length = [len(word) for word in repeated]\n",
    "# Convert to dataframe and get descriptive statistics\n",
    "repeated_words_char_length_df = pd.DataFrame(repeated_words_char_length)\n",
    "repeated_words_char_length_df.describe()"
   ]
  },
  {
   "cell_type": "markdown",
   "id": "37660feb",
   "metadata": {},
   "source": [
    "The distribution of word length for repeated words is uniform, as the mean and median are roughly the same. Average word length for unique words and repeated words are also about the same, although there are some unique words which are slightly longer. But overall, there appear to be no major differences in word length between the two groups."
   ]
  },
  {
   "cell_type": "markdown",
   "id": "1e9f7309",
   "metadata": {},
   "source": [
    "# Create Training Set"
   ]
  },
  {
   "cell_type": "markdown",
   "id": "f23b59f2",
   "metadata": {},
   "source": [
    "Currently, there is no labelled dataset available to train our models. Therefore, I will need to manually create a dataset of sample pairs for training these models. The dataset will come from the unique word set, and the chosen words will be mapped to their new orthography equivalent.<p>\n",
    "    \n",
    "**Size of Sample** <br>\n",
    "    \n",
    "I will start with 10% of the total unique words in the text. Although more data is always better, since I must manually create the labelled training set, I will start with 10% to minimize unnecessary, manual work.<p>\n",
    "    \n",
    "**Creating a Representative Sample: Stratified Sampling**<br>\n",
    "\n",
    "To ensure a representative sample of words in our training set, I will create a stratified random sample by word frequency. The reasoning for choosing this sampling method is to prevent over-fitting based upon the highest frequency words and ensure that the model will perform well on both high-frequency and low-frequency words. <p>\n",
    "    \n",
    "To create this stratified random sample, I will divide the unique word dataset into different groups based on word frequency. Then I will randomly sample from these groups to create our entire sample set. This will ensure that different categories of words, based upon word frequency, are represented in our sample. <p>\n",
    "    \n",
    "The categories I will use will be as follows: <p>\n",
    "    - *Outliers:* <br>\n",
    "    - *High-Frequency:* <br>\n",
    "    - *Medium-Frequency:* <br>\n",
    "    - *Low-Frequency:*  <br>\n",
    "    - *Unique:* Words that only occur once in the text\n",
    "    \n",
    "**Considerations for Poor Model Performance**\n",
    "    \n",
    "There is the possibility that the models will perform poorly on this manually created training set. Since the resource cost of increasing the sample training set is so high, I will only increase the sample size incrementally. One approach is to identify the model's lowest confidence words, detect any common patterns in these words (ie: specific affixes) and include more similarly affixed words in the sample set to improve performance"
   ]
  },
  {
   "cell_type": "code",
   "execution_count": null,
   "id": "51f5d1b9",
   "metadata": {},
   "outputs": [],
   "source": []
  },
  {
   "cell_type": "code",
   "execution_count": null,
   "id": "76762b29",
   "metadata": {},
   "outputs": [],
   "source": [
    "# Export word frequency dataframe to CSV file, for additional reference\n",
    "#word_frequencies_df.to_csv('chamorro_bible_words.csv', index=False, encoding=\"utf-8\")"
   ]
  },
  {
   "cell_type": "code",
   "execution_count": null,
   "id": "cd33f012",
   "metadata": {},
   "outputs": [],
   "source": [
    "# Determine the number of words needed for 10% of unique words\n",
    "sample_size = int(.1 * len(unique_word_set))\n",
    "print(f\"Sample size: {sample_size:,}\")"
   ]
  },
  {
   "cell_type": "markdown",
   "id": "4ea14b3f",
   "metadata": {},
   "source": [
    "# Train Models"
   ]
  },
  {
   "cell_type": "code",
   "execution_count": 79,
   "id": "425f71d0",
   "metadata": {},
   "outputs": [],
   "source": [
    "# Import training data"
   ]
  },
  {
   "cell_type": "markdown",
   "id": "f6633ba9",
   "metadata": {},
   "source": [
    "# Evaluate Model Performance"
   ]
  },
  {
   "cell_type": "markdown",
   "id": "bc52ddc7",
   "metadata": {},
   "source": [
    "# Final Model Selection"
   ]
  },
  {
   "cell_type": "markdown",
   "id": "d77d6b91",
   "metadata": {},
   "source": [
    "# Export Final Dataset"
   ]
  },
  {
   "cell_type": "markdown",
   "id": "ec8fe3ce",
   "metadata": {},
   "source": [
    "# Conclusions"
   ]
  },
  {
   "cell_type": "markdown",
   "id": "96f6b282",
   "metadata": {},
   "source": [
    "# Opportunities for Future Analysis"
   ]
  }
 ],
 "metadata": {
  "kernelspec": {
   "display_name": "Python 3 (ipykernel)",
   "language": "python",
   "name": "python3"
  },
  "language_info": {
   "codemirror_mode": {
    "name": "ipython",
    "version": 3
   },
   "file_extension": ".py",
   "mimetype": "text/x-python",
   "name": "python",
   "nbconvert_exporter": "python",
   "pygments_lexer": "ipython3",
   "version": "3.11.7"
  }
 },
 "nbformat": 4,
 "nbformat_minor": 5
}
